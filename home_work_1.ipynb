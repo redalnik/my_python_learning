{
  "nbformat": 4,
  "nbformat_minor": 0,
  "metadata": {
    "colab": {
      "provenance": [],
      "authorship_tag": "ABX9TyNOS863iLMjiciyuHPcKIKT"
    },
    "kernelspec": {
      "name": "python3",
      "display_name": "Python 3"
    },
    "language_info": {
      "name": "python"
    }
  },
  "cells": [
    {
      "cell_type": "code",
      "execution_count": 44,
      "metadata": {
        "colab": {
          "base_uri": "https://localhost:8080/"
        },
        "id": "0Q-edSYHdamZ",
        "outputId": "d1b75197-9114-4002-95ff-ae632fb8c754"
      },
      "outputs": [
        {
          "output_type": "stream",
          "name": "stdout",
          "text": [
            "Привет! Предлагаю проверить свои знания английского! \n",
            "Напиши, как тебя зовут.\n",
            "2\n",
            "Привет, 2, начинаем тренировку!\n",
            "Вопрос 1: \n",
            " My name ___ Vova.\n",
            "w\n",
            "Неправильно. \n",
            "Верный ответ: is\n",
            "Вопрос 2: \n",
            " I ___ a coder.\n",
            "w\n",
            "Неправильно. \n",
            "Верный ответ: am\n",
            "Вопрос 3: \n",
            " I live ___ Moscow.\n",
            "e\n",
            "Неправильно. \n",
            "Верный ответ: in\n",
            "\n",
            "Вот и всё, 2!\n",
            "Вы ответили на 0 вопросов из 3 верно.\") \n",
            "\n",
            "Вы заработали 0 баллов.\n",
            "Это 0.0 процентов.\n"
          ]
        }
      ],
      "source": [
        "# задаем переменные\n",
        "correct_count = 0\n",
        "scores = 0\n",
        "percent = 0\n",
        "\n",
        "# ввод имени пользователя и вывод приветствия\n",
        "print(\"\"\"Привет! Предлагаю проверить свои знания английского!\n",
        "Напиши, как тебя зовут.\"\"\")\n",
        "user_name = input()\n",
        "print(f\"Привет, {user_name}, начинаем тренировку!\")\n",
        "\n",
        "# вопросы и проверка ответов\n",
        "print(\"Вопрос 1: \\n My name ___ Vova.\")\n",
        "question_1 = input()\n",
        "if question_1 == \"is\":\n",
        "    print(\"Ответ верный! \\nВы получаете 10 баллов!\")\n",
        "    correct_count += 1\n",
        "else:\n",
        "    print(\"Неправильно. \\nВерный ответ: is\")\n",
        "\n",
        "print(\"Вопрос 2: \\n I ___ a coder.\")\n",
        "question_2 = input()\n",
        "if question_2 == \"am\":\n",
        "    print(\"Ответ верный! \\nВы получаете 10 баллов!\")\n",
        "    correct_count += 1\n",
        "else:\n",
        "    print(\"Неправильно. \\nВерный ответ: am\")\n",
        "\n",
        "print(\"Вопрос 3: \\n I live ___ Moscow.\")\n",
        "question_3 = input()\n",
        "if question_3 == \"in\":\n",
        "    print(\"Ответ верный! \\nВы получаете 10 баллов!\")\n",
        "    correct_count += 1\n",
        "else:\n",
        "    print(\"Неправильно. \\nВерный ответ: in\")\n",
        "print()\n",
        "\n",
        "# подсчитываем итоги и выводим результат\n",
        "scores = correct_count * 10\n",
        "percent = round((correct_count / 3 * 100), 2)\n",
        "\n",
        "print(f\"\"\"Вот и всё, {user_name}!\n",
        "Вы ответили на {correct_count} вопросов из 3 верно.\")\n",
        "\n",
        "Вы заработали {scores} баллов.\n",
        "Это {percent} процентов.\"\"\" )\n",
        "\n"
      ]
    }
  ]
}